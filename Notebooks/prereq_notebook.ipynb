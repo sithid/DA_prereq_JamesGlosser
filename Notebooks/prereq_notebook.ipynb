{
 "cells": [
  {
   "cell_type": "code",
   "execution_count": 1,
   "id": "b65f73d6",
   "metadata": {},
   "outputs": [
    {
     "name": "stdout",
     "output_type": "stream",
     "text": [
      "hello\n"
     ]
    }
   ],
   "source": [
    "print(\"hello\")"
   ]
  },
  {
   "cell_type": "markdown",
   "id": "e48d1598",
   "metadata": {},
   "source": [
    "Greetings.  My name is James, but I prefer Jimmy.  This is my 4th pathway/workshop with Code:You.  I have previously competed the Software Development Pathway, Web Development Pathway, and the AWS DevOps/Cloud Computing pathway.  Ive learned python in the past, at KCTCS, but it has been a while since I have actually had to use it.  I own a game called \"The Farmer Was Replaced\" that you play using only python code but thats the most ive used Python sinse 2020. Jupiter notebooks etc are completely foreign to me. I took web dev before this hoping it will help me with the capstone project.  When I did software dev, I had to build a blazor/mudblazor frontend and I was terrible with the CSS/HTML so I wanted to take that class before this one.  "
   ]
  }
 ],
 "metadata": {
  "kernelspec": {
   "display_name": "Python 3",
   "language": "python",
   "name": "python3"
  },
  "language_info": {
   "codemirror_mode": {
    "name": "ipython",
    "version": 3
   },
   "file_extension": ".py",
   "mimetype": "text/x-python",
   "name": "python",
   "nbconvert_exporter": "python",
   "pygments_lexer": "ipython3",
   "version": "3.13.5"
  }
 },
 "nbformat": 4,
 "nbformat_minor": 5
}
